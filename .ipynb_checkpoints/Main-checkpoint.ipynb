{
 "cells": [
  {
   "cell_type": "markdown",
   "id": "953d84f9",
   "metadata": {},
   "source": [
    "Implementation inspired by: https://www.kaggle.com/code/yassineghouzam/introduction-to-cnn-keras-0-997-top-6"
   ]
  },
  {
   "cell_type": "markdown",
   "id": "53dabb4e",
   "metadata": {},
   "source": [
    "# 0. Import packages"
   ]
  },
  {
   "cell_type": "code",
   "execution_count": 8,
   "id": "19ae897c-3ca9-4900-9123-ca596635414f",
   "metadata": {},
   "outputs": [],
   "source": [
    "import matplotlib.pyplot as plt \n",
    "import tensorflow\n",
    "from tensorflow import keras\n",
    "from tensorflow.keras import Sequential\n",
    "from tensorflow.keras.layers import Dense,Flatten"
   ]
  },
  {
   "cell_type": "markdown",
   "id": "745cf49e-61f2-49f7-9212-5f910cac609b",
   "metadata": {},
   "source": [
    "# 1. Data preparation"
   ]
  },
  {
   "cell_type": "markdown",
   "id": "3e46973e",
   "metadata": {},
   "source": [
    "## 1.1 Loading the data"
   ]
  },
  {
   "cell_type": "markdown",
   "id": "29ab580c",
   "metadata": {},
   "source": [
    "#### Load the set of images and labels from the mnist dataset using Keras:\n",
    "* When loading the dataset this way, it already is split into a training set (60000 images) and test set (10000)\n",
    "* The dataset does not contain any missing values"
   ]
  },
  {
   "cell_type": "code",
   "execution_count": 2,
   "id": "57551257-0adb-47bb-a9a6-8631db4e3f33",
   "metadata": {},
   "outputs": [
    {
     "name": "stdout",
     "output_type": "stream",
     "text": [
      "Downloading data from https://storage.googleapis.com/tensorflow/tf-keras-datasets/mnist.npz\n",
      "11490434/11490434 [==============================] - 9s 1us/step\n"
     ]
    }
   ],
   "source": [
    "(X_train,y_train),(X_test,y_test)=keras.datasets.mnist.load_data()"
   ]
  },
  {
   "cell_type": "markdown",
   "id": "85fc1cb9",
   "metadata": {},
   "source": [
    "#### Displaying some of the images:"
   ]
  },
  {
   "cell_type": "code",
   "execution_count": 14,
   "id": "6c008811",
   "metadata": {},
   "outputs": [
    {
     "data": {
      "image/png": "[encoded data removed]",
      "text/plain": [
       "<Figure size 1200x400 with 6 Axes>"
      ]
     },
     "metadata": {},
     "output_type": "display_data"
    }
   ],
   "source": [
    "# Display a few example images\n",
    "plt.figure(figsize=(12, 4))\n",
    "\n",
    "for i in range(6):\n",
    "    plt.subplot(2, 3, i + 1)\n",
    "    plt.imshow(X_train[i], cmap='gray')\n",
    "    plt.title(f\"Label: {y_train[i]}\")\n",
    "\n",
    "plt.tight_layout()\n",
    "plt.show()"
   ]
  },
  {
   "cell_type": "markdown",
   "id": "7a88ab72",
   "metadata": {},
   "source": [
    "#### Things to consider in this section:\n",
    "* Reshaping the data (the data needs to be in a specific format before entering the model)\n",
    "* Label encoding\n",
    "* etc."
   ]
  },
  {
   "cell_type": "markdown",
   "id": "59ddef30-fb04-463c-8fa6-6a028e340483",
   "metadata": {},
   "source": [
    "## 1.2 Data Augmentation\n",
    "Apply techniques to diversify the diversity of our training data. Could for instance be: \n",
    "* Normalizing the images (for instance grayscale normalization)\n",
    "* horizontal or vertical flips\n",
    "* random crops \n",
    "* color jitters\n",
    "* translations\n",
    "* and more..."
   ]
  },
  {
   "cell_type": "markdown",
   "id": "775e1527-a26b-43c9-a133-0083fcab2a8b",
   "metadata": {},
   "source": [
    "# 2. CNN"
   ]
  },
  {
   "cell_type": "markdown",
   "id": "1525d8c4",
   "metadata": {},
   "source": [
    "## 2.1 Defining the model\n",
    "* Define all the layers, including Conv2D (convolutional layers), MaxPool2D (pooling layers), dropout layers, flatten layer and dense layer\n",
    "* Decide upon things like the optimizer, loss function, batch size, number of epochs and so on. Maybe introduce early stopping (a mechanism that makes the training of the network stop automatically once the value of the loss starts increasing)"
   ]
  },
  {
   "cell_type": "markdown",
   "id": "02a1646d",
   "metadata": {},
   "source": [
    "## 2.2 Tuning the model\n",
    "We can tune are model to make sure that the hyperparameters we have chosen ensures opimal performance. Some hyperparameters that could be useful to tune (according to ChatGPT) are:\n",
    "* Number of Convolutional layers\n",
    "* Number of Filters\n",
    "* Filter Size (Kernel Size)\n",
    "* Pooling\n",
    "* Dropout Rate\n",
    "* Weight Initialization\n",
    "* Data Augmentation\n",
    "* and more..."
   ]
  },
  {
   "cell_type": "markdown",
   "id": "687d32a9-ced8-43e1-bb7c-ff8beede1c1f",
   "metadata": {},
   "source": [
    "# 3. Evaluation"
   ]
  },
  {
   "cell_type": "markdown",
   "id": "fe3d0f60",
   "metadata": {},
   "source": [
    "In the example, they have used these techniques to evaluate the model:\n",
    "* Training and validation curves\n",
    "* Confusion matrix\n",
    "* Displaying errors "
   ]
  },
  {
   "cell_type": "code",
   "execution_count": null,
   "id": "8ddf1f6d",
   "metadata": {},
   "outputs": [],
   "source": []
  }
 ],
 "metadata": {
  "kernelspec": {
   "display_name": "Python 3 (ipykernel)",
   "language": "python",
   "name": "python3"
  },
  "language_info": {
   "codemirror_mode": {
    "name": "ipython",
    "version": 3
   },
   "file_extension": ".py",
   "mimetype": "text/x-python",
   "name": "python",
   "nbconvert_exporter": "python",
   "pygments_lexer": "ipython3",
   "version": "3.10.9"
  }
 },
 "nbformat": 4,
 "nbformat_minor": 5
}
